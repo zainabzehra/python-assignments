{
 "cells": [
  {
   "cell_type": "code",
   "execution_count": 25,
   "metadata": {},
   "outputs": [
    {
     "name": "stdout",
     "output_type": "stream",
     "text": [
      "Enter first value: 2\n",
      "Enter second value: 4\n",
      "Enter Operator: **\n",
      "16\n"
     ]
    }
   ],
   "source": [
    "#QUESTION NO 1: Make a calculator using Python with Addition, Subtraction, Multiplication, Division and Power.\n",
    "\n",
    "val1 = input('Enter first value: ')\n",
    "val2 = input('Enter second value: ')\n",
    "operator = input('Enter Operator: ')\n",
    "val1 = int(val1)\n",
    "val2 = int(val2)\n",
    "\n",
    "if operator == '+': #for addition\n",
    "    val = val1 + val2\n",
    "    print(val)\n",
    "elif operator == '-': #for subtraction\n",
    "    val = val1 - val2\n",
    "    print(val)\n",
    "elif operator == '*': #for multiplication\n",
    "    val = val1 * val2\n",
    "    print(val) \n",
    "elif operator == '/': #for division\n",
    "    val = val1 / val2\n",
    "    print(val)\n",
    "elif operator == '**': #for power\n",
    "    val = val1 ** val2\n",
    "    print(val)\n",
    "else:\n",
    "    print('Enter correct Operator')"
   ]
  },
  {
   "cell_type": "code",
   "execution_count": 21,
   "metadata": {},
   "outputs": [
    {
     "name": "stdout",
     "output_type": "stream",
     "text": [
      "Numeric value found : 7\n"
     ]
    }
   ],
   "source": [
    "#QUESTION NO 2: Write a program to check if there is any numeric value in list using for loop.\n",
    "\n",
    "the_list = [\"2\",  \"SAMIA\",\"ENGLISH\",7]\n",
    "for value in the_list:\n",
    "    if type(value) == int or type(value) == float:\n",
    "        print(f\"Numeric value found : {value}\")\n",
    "        break"
   ]
  },
  {
   "cell_type": "code",
   "execution_count": 20,
   "metadata": {},
   "outputs": [
    {
     "name": "stdout",
     "output_type": "stream",
     "text": [
      "{5: 'Finland', 2: 'Norway', 3: 'Sweden', 7: 'Iceland', 4: 'Thailand'}\n"
     ]
    }
   ],
   "source": [
    "#QUESTION NO 3: Write a python script to add a key to a dictionary.\n",
    "\n",
    "rankings = {5: \"Finland\", 2: \"Norway\", 3: \"Sweden\", 7: \"Iceland\"} #Key is number and Value is in Strings\n",
    "rankings[4] = \"Thailand\"\n",
    "print(rankings)"
   ]
  },
  {
   "cell_type": "code",
   "execution_count": 18,
   "metadata": {},
   "outputs": [
    {
     "name": "stdout",
     "output_type": "stream",
     "text": [
      "{'A': 10, 'B': 20, 'C': 40}\n",
      "Sum of all numeric values in the dictionary=  70\n"
     ]
    }
   ],
   "source": [
    "#QUESTION NO 4: Write a python program to add all the numeric value in dictionary.\n",
    "\n",
    "my_dict = {'A':10,'B':20,'C':40}\n",
    "print(my_dict)\n",
    "total = sum(my_dict.values())\n",
    "print(\"Sum of all numeric values in the dictionary= \",total)"
   ]
  },
  {
   "cell_type": "code",
   "execution_count": 19,
   "metadata": {},
   "outputs": [
    {
     "name": "stdout",
     "output_type": "stream",
     "text": [
      "[3, 3, 4, 4, 5, 5]\n"
     ]
    }
   ],
   "source": [
    "#QUESTION NO 5: Write a program to identify duplicate values from list.\n",
    "\n",
    "list1 = [1,2,3,3,4,4,5,5,7]\n",
    "list2 = [i for i in list1 if list1.count(i)>1]\n",
    "print(list2)"
   ]
  },
  {
   "cell_type": "code",
   "execution_count": 23,
   "metadata": {},
   "outputs": [
    {
     "name": "stdout",
     "output_type": "stream",
     "text": [
      "2 Already exists\n"
     ]
    }
   ],
   "source": [
    "#QUESTION NO 6: Write a python script to check if a given key already exists in a dictionary.\n",
    "\n",
    "dic = { 1: \"key1\",\n",
    "        2: \"key2\",\n",
    "        3: \"key3\"\n",
    "}\n",
    "\n",
    "given_key = 2\n",
    "\n",
    "for key in dic.keys():\n",
    "    if key == given_key:\n",
    "        print(f\"{given_key} Already exists\")"
   ]
  }
 ],
 "metadata": {
  "kernelspec": {
   "display_name": "Python 3",
   "language": "python",
   "name": "python3"
  },
  "language_info": {
   "codemirror_mode": {
    "name": "ipython",
    "version": 3
   },
   "file_extension": ".py",
   "mimetype": "text/x-python",
   "name": "python",
   "nbconvert_exporter": "python",
   "pygments_lexer": "ipython3",
   "version": "3.7.4"
  }
 },
 "nbformat": 4,
 "nbformat_minor": 2
}
