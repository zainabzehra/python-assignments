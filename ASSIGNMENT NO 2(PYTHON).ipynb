{
 "cells": [
  {
   "cell_type": "code",
   "execution_count": 10,
   "metadata": {},
   "outputs": [
    {
     "name": "stdout",
     "output_type": "stream",
     "text": [
      "Enter marks of 1st subject: 70\n",
      "Enter marks of 2nd subject: 79\n",
      "Enter marks of 3rd subject: 80\n",
      "Enter marks of 4th subject: 67\n",
      "Enter marks of 5th subject: 90\n",
      "Grade: C\n"
     ]
    }
   ],
   "source": [
    "#QUESTION NO 1\n",
    "SUB1 = int(input(\"Enter marks of 1st subject: \"))\n",
    "SUB2 = int(input(\"Enter marks of 2nd subject: \"))\n",
    "SUB3 = int(input(\"Enter marks of 3rd subject: \"))\n",
    "SUB4 = int(input(\"Enter marks of 4th subject: \"))\n",
    "SUB5 = int(input(\"Enter marks of 5th subject: \"))\n",
    "avg = (SUB1 + SUB2 + SUB3 + SUB4 + SUB5)/5\n",
    "if avg >= 90:\n",
    "    print(\"Grade: A\")\n",
    "elif avg >= 80 and avg < 90:\n",
    "    print(\"Grade: B\")\n",
    "elif avg >= 70 and avg < 80:\n",
    "    print(\"Grade: C\")\n",
    "elif avg >= 60 and avg < 70:\n",
    "    print(\"Grade: D\")\n",
    "else :\n",
    "    print(\"Grade: F\")"
   ]
  },
  {
   "cell_type": "code",
   "execution_count": 14,
   "metadata": {},
   "outputs": [
    {
     "name": "stdout",
     "output_type": "stream",
     "text": [
      "Enter a number: 7\n",
      "7 is odd number\n"
     ]
    }
   ],
   "source": [
    "#QUESTION NO 2\n",
    "number = int(input(\"Enter a number: \"))\n",
    "if number%2 == 0:\n",
    "    print(number,\"is even number\")\n",
    "else :\n",
    "    print(number,\"is odd number\")\n"
   ]
  },
  {
   "cell_type": "code",
   "execution_count": 28,
   "metadata": {},
   "outputs": [
    {
     "name": "stdout",
     "output_type": "stream",
     "text": [
      "['samia', 'zaeem', 'nawal', 'muneeb']\n",
      "The Length of the list is:  4\n"
     ]
    }
   ],
   "source": [
    "#QUESTION NO 3\n",
    "list1 = ['samia','zaeem','nawal','muneeb']\n",
    "print(list1)\n",
    "length=len(list1)\n",
    "print(\"The Length of the list is: \",length)"
   ]
  },
  {
   "cell_type": "code",
   "execution_count": 53,
   "metadata": {},
   "outputs": [
    {
     "name": "stdout",
     "output_type": "stream",
     "text": [
      "{'a': 1, 'b': 2, 'c': 3, 'd': 4}\n",
      "The alphabets are:  ['a', 'b', 'c', 'd']\n",
      "The numeric values are:  [1, 2, 3, 4]\n",
      "The Sum of numeric values are:  10\n"
     ]
    }
   ],
   "source": [
    "#QUESTION NO 4\n",
    "my_dict = {'a':1,'b':2,'c':3,'d':4}\n",
    "print(my_dict)\n",
    "key_list=list(my_dict.keys())\n",
    "print(\"The alphabets are: \",key_list)\n",
    "value_list=list(my_dict.values())\n",
    "print(\"The numeric values are: \",value_list)\n",
    "print(\"The Sum of numeric values are: \",sum(value_list))"
   ]
  },
  {
   "cell_type": "code",
   "execution_count": 57,
   "metadata": {},
   "outputs": [
    {
     "name": "stdout",
     "output_type": "stream",
     "text": [
      "100\n"
     ]
    }
   ],
   "source": [
    "#QUESTION NO 5\n",
    "x = [10,20,30,40,50,60,70,80,90,100]\n",
    "print(max(x))"
   ]
  },
  {
   "cell_type": "code",
   "execution_count": 68,
   "metadata": {},
   "outputs": [
    {
     "name": "stdout",
     "output_type": "stream",
     "text": [
      "[1, 1, 2, 3]\n"
     ]
    }
   ],
   "source": [
    "#QUESTION NO 6\n",
    "a = [1,1,2,3,5,8,13,21,34,55,89]\n",
    "a=(a[0: 4])\n",
    "print(a)"
   ]
  }
 ],
 "metadata": {
  "kernelspec": {
   "display_name": "Python 3",
   "language": "python",
   "name": "python3"
  },
  "language_info": {
   "codemirror_mode": {
    "name": "ipython",
    "version": 3
   },
   "file_extension": ".py",
   "mimetype": "text/x-python",
   "name": "python",
   "nbconvert_exporter": "python",
   "pygments_lexer": "ipython3",
   "version": "3.7.4"
  }
 },
 "nbformat": 4,
 "nbformat_minor": 2
}
