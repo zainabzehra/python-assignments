{
 "cells": [
  {
   "cell_type": "code",
   "execution_count": 1,
   "metadata": {},
   "outputs": [
    {
     "name": "stdout",
     "output_type": "stream",
     "text": [
      "\n",
      "Twinkle, twinkle, little star,\n",
      "      How I wonder what you are!\n",
      "            Up above the world so high,\n",
      "            Like a diamond in the sky.\n",
      "Twinkle, twinkle, little star,\n",
      "      How I wonder what you are\n",
      "      \n"
     ]
    }
   ],
   "source": [
    "#QUESTION NO 1\n",
    "print('''\n",
    "Twinkle, twinkle, little star,\n",
    "      How I wonder what you are!\n",
    "            Up above the world so high,\n",
    "            Like a diamond in the sky.\n",
    "Twinkle, twinkle, little star,\n",
    "      How I wonder what you are\n",
    "      ''')     "
   ]
  },
  {
   "cell_type": "code",
   "execution_count": 2,
   "metadata": {},
   "outputs": [
    {
     "name": "stdout",
     "output_type": "stream",
     "text": [
      "Python Version\n",
      "3.7.4 (default, Aug  9 2019, 18:34:13) [MSC v.1915 64 bit (AMD64)]\n"
     ]
    }
   ],
   "source": [
    "#QUESTION NO 2\n",
    "import sys \n",
    "print(\"Python Version\")\n",
    "print(sys.version)"
   ]
  },
  {
   "cell_type": "code",
   "execution_count": 3,
   "metadata": {},
   "outputs": [
    {
     "name": "stdout",
     "output_type": "stream",
     "text": [
      "Current date and time is: \n",
      "31-10-19 05:45:32:PM\n"
     ]
    }
   ],
   "source": [
    "#QUESTION NO 3\n",
    "import datetime\n",
    "now = datetime.datetime.now()\n",
    "print(\"Current date and time is: \")\n",
    "print(now.strftime(\"%d-%m-%y %I:%M:%S:%p\"))"
   ]
  },
  {
   "cell_type": "code",
   "execution_count": 4,
   "metadata": {},
   "outputs": [
    {
     "name": "stdout",
     "output_type": "stream",
     "text": [
      "Enter the radius of a cirlce: 4\n",
      "Area of a cirlce is:  50.24\n"
     ]
    }
   ],
   "source": [
    "#QUESTION NO 4\n",
    "pi = 3.14\n",
    "r = float(input(\"Enter the radius of a cirlce: \"))\n",
    "area = pi*r*r\n",
    "print(\"Area of a cirlce is: \",area)"
   ]
  },
  {
   "cell_type": "code",
   "execution_count": 5,
   "metadata": {},
   "outputs": [
    {
     "name": "stdout",
     "output_type": "stream",
     "text": [
      "Enter Your First Name: Samia\n",
      "Enter Your Last Name: Hashmi\n",
      "Hashmi Samia\n"
     ]
    }
   ],
   "source": [
    "#QUESTION NO 5\n",
    "First_Name = input(\"Enter Your First Name: \")\n",
    "Last_Name = input(\"Enter Your Last Name: \")\n",
    "print(Last_Name + \" \" + First_Name)"
   ]
  },
  {
   "cell_type": "code",
   "execution_count": 8,
   "metadata": {},
   "outputs": [
    {
     "name": "stdout",
     "output_type": "stream",
     "text": [
      "Enter 1st Number: 3\n",
      "Enter 2nd Number: 4\n",
      "Sum of two numbers is =  7\n"
     ]
    }
   ],
   "source": [
    "#QUESTION NO 6\n",
    "Num_1 = int(input(\"Enter 1st Number: \"))\n",
    "Num_2= int(input(\"Enter 2nd Number: \"))\n",
    "Sum = Num_1 + Num_2\n",
    "print(\"Sum of two numbers is = \",Sum)"
   ]
  }
 ],
 "metadata": {
  "kernelspec": {
   "display_name": "Python 3",
   "language": "python",
   "name": "python3"
  },
  "language_info": {
   "codemirror_mode": {
    "name": "ipython",
    "version": 3
   },
   "file_extension": ".py",
   "mimetype": "text/x-python",
   "name": "python",
   "nbconvert_exporter": "python",
   "pygments_lexer": "ipython3",
   "version": "3.7.4"
  }
 },
 "nbformat": 4,
 "nbformat_minor": 2
}
