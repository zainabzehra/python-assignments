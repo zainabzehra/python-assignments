{
 "cells": [
  {
   "cell_type": "code",
   "execution_count": 1,
   "metadata": {},
   "outputs": [
    {
     "name": "stdout",
     "output_type": "stream",
     "text": [
      "{'first name': 'Samia', 'last name': 'Hashmi', 'age': 18, 'city': 'Karachi'}\n",
      "{'first name': 'Samia', 'last name': 'Hashmi', 'age': 18, 'city': 'Karachi', 'qualification': 'To be updated'}\n",
      "{'first name': 'Samia', 'last name': 'Hashmi', 'age': 18, 'city': 'Karachi', 'qualification': 'high academic level'}\n",
      "{'first name': 'Samia', 'last name': 'Hashmi', 'age': 18, 'city': 'Karachi'}\n"
     ]
    }
   ],
   "source": [
    "#QUESTION NO 1:\n",
    "\n",
    "mybio = { \n",
    "    \"first name\": \"Samia\",\n",
    "    \"last name\" : \"Hashmi\",\n",
    "    \"age\"           : 18,\n",
    "    \"city\"          : \"Karachi\"\n",
    "}\n",
    "\n",
    "print(mybio)\n",
    "\n",
    "mybio[\"qualification\"] = \"To be updated\"\n",
    "print(mybio)\n",
    "\n",
    "mybio[\"qualification\"]= \"high academic level\"\n",
    "print(mybio)\n",
    "\n",
    "del mybio[\"qualification\"]\n",
    "print(mybio)"
   ]
  },
  {
   "cell_type": "code",
   "execution_count": 2,
   "metadata": {},
   "outputs": [
    {
     "name": "stdout",
     "output_type": "stream",
     "text": [
      "{'Country': 'US', 'Population': 2.716, 'Fact': 'Renowed for its museums '}\n",
      "{'Country': 'France', 'Population': 199000, 'Fact': \"It's a beautiful place \"}\n",
      "{'Country': 'India', 'Population': 145000, 'Fact': 'It is technology hub '}\n"
     ]
    }
   ],
   "source": [
    "#QUESTION NO 2:\n",
    "cities = {\n",
    "    \"Chicago\" : {\"Country\"      : \"US\" ,\n",
    "                              \"Population\" : 2.716,\n",
    "                              \"Fact\"       : \"Renowed for its museums \"},\n",
    "    \n",
    "    \"Paris\"           : {\"Country\"      : \"France\" ,\n",
    "                              \"Population\" : 199000,\n",
    "                              \"Fact\"       : \"It's a beautiful place \"},\n",
    "    \n",
    "    \"Banglore\"    : {\"Country\"      : \"India\" ,\n",
    "                              \"Population\" : 145000,\n",
    "                              \"Fact\"        : \"It is technology hub \"}\n",
    "}\n",
    "\n",
    "print(cities[\"Chicago\"])\n",
    "print(cities[\"Paris\"])\n",
    "print(cities[\"Banglore\"])"
   ]
  },
  {
   "cell_type": "code",
   "execution_count": 3,
   "metadata": {},
   "outputs": [
    {
     "name": "stdout",
     "output_type": "stream",
     "text": [
      "\n",
      "Enter your age or 'quit' to stop asking :2\n",
      "Your ticket is free !\n",
      "\n",
      "Enter your age or 'quit' to stop asking :18\n",
      "Your ticket is $15 !\n",
      "\n",
      "Enter your age or 'quit' to stop asking :quit\n"
     ]
    }
   ],
   "source": [
    "#QUESTION NO 3:\n",
    "\n",
    "flag = True\n",
    "while flag:\n",
    "    age = input(\"\\nEnter your age or 'quit' to stop asking :\")\n",
    "    \n",
    "    if age.lower() == 'quit':\n",
    "        flag = False\n",
    "    else:\n",
    "        int_age = int(age)\n",
    "        if int_age < 3:\n",
    "            print(\"Your ticket is free !\")\n",
    "        elif int_age >=3 and int_age <=12:\n",
    "            print(\"Your ticket is $10 !\")\n",
    "        elif int_age > 12:\n",
    "            print(\"Your ticket is $15 !\")"
   ]
  },
  {
   "cell_type": "code",
   "execution_count": 4,
   "metadata": {},
   "outputs": [
    {
     "name": "stdout",
     "output_type": "stream",
     "text": [
      "One of my favorite books is 'Alice in Wonderland'.\n",
      "One of my favorite books is 'You can win '.\n"
     ]
    }
   ],
   "source": [
    "#QUESTION NO 4:\n",
    "\n",
    "def favorite_book(title):\n",
    "    print(f\"One of my favorite books is '{title}'.\")\n",
    "    \n",
    "favorite_book(\"Alice in Wonderland\")\n",
    "favorite_book(\"You can win \")"
   ]
  },
  {
   "cell_type": "code",
   "execution_count": 7,
   "metadata": {},
   "outputs": [
    {
     "name": "stdout",
     "output_type": "stream",
     "text": [
      "\n",
      "\tYou have 3 chances to guess the hidden number (from 1 to 30): 3\n",
      "\tYour guess is less than the hidden number !\n",
      "\n",
      "\tYou have 2 chances to guess the hidden number (from 1 to 30): 5\n",
      "\tYour guess is less than the hidden number !\n",
      "\n",
      "\tYou have 1 chances to guess the hidden number (from 1 to 30): 9\n",
      "\tYour guess is less than the hidden number !\n",
      "\n",
      "\tYou Lost ! :(  Hidden Number was 15\n"
     ]
    }
   ],
   "source": [
    "#QUESTION NO 5:\n",
    "\n",
    "import random as rd\n",
    "i = 3\n",
    "while i > 0:\n",
    "    correct_num = rd.randint(1,30)\n",
    "    user_num = int(input(f\"\\n\\tYou have {i} chances to guess the hidden number (from 1 to 30): \"))\n",
    "    \n",
    "    if user_num == correct_num:\n",
    "        print(\"\\t***Congrats ! Correct Guess, You Won*** :)\")\n",
    "        break\n",
    "    elif user_num > correct_num:\n",
    "        print(\"\\tYour guess is greater than the hidden number !\")\n",
    "        i -= 1\n",
    "    elif user_num < correct_num:\n",
    "        print(\"\\tYour guess is less than the hidden number !\")\n",
    "        i-=1\n",
    "    elif user_num < 1 or user_num > 30:\n",
    "        print(\"\\tPlease enter number in range 1 to 30 !\")\n",
    "        \n",
    "if i == 0:\n",
    "    print(f\"\\n\\tYou Lost ! :(  Hidden Number was {correct_num}\")"
   ]
  }
 ],
 "metadata": {
  "kernelspec": {
   "display_name": "Python 3",
   "language": "python",
   "name": "python3"
  },
  "language_info": {
   "codemirror_mode": {
    "name": "ipython",
    "version": 3
   },
   "file_extension": ".py",
   "mimetype": "text/x-python",
   "name": "python",
   "nbconvert_exporter": "python",
   "pygments_lexer": "ipython3",
   "version": "3.7.4"
  }
 },
 "nbformat": 4,
 "nbformat_minor": 2
}
