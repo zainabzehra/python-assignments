{
 "cells": [
  {
   "cell_type": "code",
   "execution_count": 4,
   "metadata": {},
   "outputs": [
    {
     "name": "stdout",
     "output_type": "stream",
     "text": [
      "6\n"
     ]
    }
   ],
   "source": [
    "#QUESTION NO 1:\n",
    "\n",
    "def factorial(num): #definition\n",
    "    product = 1\n",
    "    while num > 0:\n",
    "        product *= num\n",
    "        num -= 1\n",
    "    print(product)\n",
    "\n",
    "factorial(3) #calling"
   ]
  },
  {
   "cell_type": "code",
   "execution_count": 6,
   "metadata": {},
   "outputs": [
    {
     "name": "stdout",
     "output_type": "stream",
     "text": [
      "There are 15 Lower case letters.\n",
      "There are 3 Upper case letters.\n"
     ]
    }
   ],
   "source": [
    "# QUESTION NO 2:\n",
    "\n",
    "def case_counter(string): #definition\n",
    "    upper_count = 0\n",
    "    lower_count = 0\n",
    "    for letter in string:\n",
    "        if letter == letter.lower():\n",
    "            lower_count += 1\n",
    "        elif letter == letter.upper():\n",
    "            upper_count += 1\n",
    "    print(f\"There are {lower_count} Lower case letters.\")\n",
    "    print(f\"There are {upper_count} Upper case letters.\")\n",
    "    \n",
    "case_counter(\"Syeda Samia Hashmi\") #calling"
   ]
  },
  {
   "cell_type": "code",
   "execution_count": 8,
   "metadata": {},
   "outputs": [
    {
     "name": "stdout",
     "output_type": "stream",
     "text": [
      "12\n",
      "14\n",
      "16\n",
      "18\n",
      "20\n"
     ]
    }
   ],
   "source": [
    "#QUESTION NO 3:\n",
    "\n",
    "def even_printer(numbers): #definition\n",
    "    for number in numbers:\n",
    "        if number % 2 == 0:\n",
    "            print(number)\n",
    "            \n",
    "even_printer([11,12,13,14,15,16,17,18,19,20]) #calling"
   ]
  },
  {
   "cell_type": "code",
   "execution_count": 13,
   "metadata": {},
   "outputs": [
    {
     "name": "stdout",
     "output_type": "stream",
     "text": [
      "This is not a palindrome string.\n",
      "This is a palindrome string.\n"
     ]
    }
   ],
   "source": [
    "#QUESTION NO 4:\n",
    "\n",
    "def check_palindrome(string): #definition\n",
    "    if string == string[::-1]:\n",
    "        print(\"This is a palindrome string.\")\n",
    "    else:\n",
    "        print(\"This is not a palindrome string.\")\n",
    "        \n",
    "check_palindrome(\"Syeda\") #calling\n",
    "check_palindrome(\"MOM\")"
   ]
  },
  {
   "cell_type": "code",
   "execution_count": 16,
   "metadata": {},
   "outputs": [
    {
     "name": "stdout",
     "output_type": "stream",
     "text": [
      "17 is a prime number !\n",
      "4 is not a prime number\n"
     ]
    }
   ],
   "source": [
    "#QUESTION NO 5:\n",
    "\n",
    "def check_prime(num): #definition\n",
    "    flag = True\n",
    "    if num > 1:  \n",
    "        for i in range(2,num):  \n",
    "            if (num % i) == 0:  \n",
    "                print(num,\"is not a prime number\")  \n",
    "                flag = False\n",
    "                break  \n",
    "        if flag:\n",
    "            print(num, \"is a prime number !\")\n",
    "\n",
    "    else:\n",
    "        print(num, \"is not a prime number.\")\n",
    "\n",
    "check_prime(17) #calling\n",
    "check_prime(4)"
   ]
  },
  {
   "cell_type": "code",
   "execution_count": 18,
   "metadata": {},
   "outputs": [
    {
     "name": "stdout",
     "output_type": "stream",
     "text": [
      "Items:\n",
      "\tiphone\n",
      "\tlaptop\n",
      "\twatch\n",
      "\tUSB\n"
     ]
    }
   ],
   "source": [
    "#QUESTION NO 6:\n",
    "\n",
    "def shopping(*items): #definition of funnction\n",
    "    print(\"Items:\")\n",
    "    for item in items:\n",
    "        print(f\"\\t{item}\")\n",
    "        \n",
    "shopping(\"iphone\",\"laptop\",\"watch\",\"USB\") #calling"
   ]
  }
 ],
 "metadata": {
  "kernelspec": {
   "display_name": "Python 3",
   "language": "python",
   "name": "python3"
  },
  "language_info": {
   "codemirror_mode": {
    "name": "ipython",
    "version": 3
   },
   "file_extension": ".py",
   "mimetype": "text/x-python",
   "name": "python",
   "nbconvert_exporter": "python",
   "pygments_lexer": "ipython3",
   "version": "3.7.4"
  }
 },
 "nbformat": 4,
 "nbformat_minor": 2
}
